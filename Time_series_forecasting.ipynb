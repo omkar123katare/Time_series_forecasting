{
  "nbformat": 4,
  "nbformat_minor": 0,
  "metadata": {
    "colab": {
      "name": "Time_series_forecasting.ipynb",
      "provenance": [],
      "authorship_tag": "ABX9TyN5cZ9fo97dZksyuJoveN7c",
      "include_colab_link": true
    },
    "kernelspec": {
      "name": "python3",
      "display_name": "Python 3"
    },
    "language_info": {
      "name": "python"
    }
  },
  "cells": [
    {
      "cell_type": "markdown",
      "metadata": {
        "id": "view-in-github",
        "colab_type": "text"
      },
      "source": [
        "<a href=\"https://colab.research.google.com/github/omkar123katare/Time_series_forecasting/blob/main/Time_series_forecasting.ipynb\" target=\"_parent\"><img src=\"https://colab.research.google.com/assets/colab-badge.svg\" alt=\"Open In Colab\"/></a>"
      ]
    },
    {
      "cell_type": "markdown",
      "source": [
        "Time series is a supervised algorithm. Because we use prevouis data to predict future values\n"
      ],
      "metadata": {
        "id": "jqwCs1GlTu_g"
      }
    },
    {
      "cell_type": "markdown",
      "source": [
        "Key components of a time series-\n",
        "1. Trend\n",
        "2. Seasonality\n",
        "3. Error\n"
      ],
      "metadata": {
        "id": "a4mOPaTW-Kyq"
      }
    },
    {
      "cell_type": "markdown",
      "source": [
        "1. Time dimension is plotted on X-axis. (date, month, hour)\n",
        "2. y- axis is the value that is being monitered.."
      ],
      "metadata": {
        "id": "gP0cruWX-0EW"
      }
    },
    {
      "cell_type": "markdown",
      "source": [
        "# Part 1"
      ],
      "metadata": {
        "id": "WkgvgjhsT-HF"
      }
    },
    {
      "cell_type": "code",
      "execution_count": 3,
      "metadata": {
        "id": "m_IcpXql-Faz"
      },
      "outputs": [],
      "source": [
        "#Part1. \n",
        "#Naive forecast method(Whatever happened on last time stamp, that will be my forcast for the next timestamp.)(No, machine learning is used here.)\n",
        "#Moving averages method( I will take n previous values and my next forecast will be the average of these n points)\n",
        "\n",
        "def moving_averages(series,n):\n",
        "  \"\"\" Calculate average of last 10 observations\"\"\"\n",
        "  return np.average(series[-n:])\n",
        "\n",
        "# moving averages can be used to smoothen your data. Order of smoothening is determined by the value sof 'n'.\n",
        "# Function is written to get smoothened treand. This helps us in ndrstanding the data. We can catch trends, we can visualiza periodicity in the data in a better way."
      ]
    },
    {
      "cell_type": "code",
      "source": [
        "#Weighted averages method\n",
        "\n",
        "def weighted_average(series,weights):\n",
        "  ''' Calculta weighted average on series.'''\n",
        "  result=0.0\n",
        "  for n in range(len(weights)):\n",
        "    result=series.iloc[-n-1]*weights[n]\n",
        "    return float(result)"
      ],
      "metadata": {
        "id": "qjRdCIHVB3ii"
      },
      "execution_count": 6,
      "outputs": []
    },
    {
      "cell_type": "code",
      "source": [
        "# Exponential smoothening\n",
        "# Here recursion happed.\n",
        "# very intuitive smootheing plot is there in almabetter\n",
        " "
      ],
      "metadata": {
        "id": "KK2D8lDPJv7M"
      },
      "execution_count": 7,
      "outputs": []
    },
    {
      "cell_type": "code",
      "source": [
        "# acuurance decreases from lag 0 to lag 8 exponentially"
      ],
      "metadata": {
        "id": "IoHgaJKXJ68d"
      },
      "execution_count": null,
      "outputs": []
    },
    {
      "cell_type": "code",
      "source": [
        "# Double exponential smoothening ( Holtz Linear trend method)\n",
        "#forecast= level + trend"
      ],
      "metadata": {
        "id": "AJeGfnNoOsVp"
      },
      "execution_count": null,
      "outputs": []
    },
    {
      "cell_type": "code",
      "source": [
        "# Triple exponential smoothening"
      ],
      "metadata": {
        "id": "0ortGcK-crYk"
      },
      "execution_count": 8,
      "outputs": []
    },
    {
      "cell_type": "markdown",
      "source": [
        "Dicky fuller test is a test which helps us in finding if the time series data is stationary or not."
      ],
      "metadata": {
        "id": "KQY-4v-jU1VJ"
      }
    },
    {
      "cell_type": "markdown",
      "source": [
        "\n",
        "\n",
        "---\n",
        "\n",
        "\n",
        "\n",
        "---\n",
        "\n"
      ],
      "metadata": {
        "id": "pJgk4fNJVEaR"
      }
    },
    {
      "cell_type": "markdown",
      "source": [
        "Untill now, we could only predict for one data point in future. i.e. our horizon can only be one value. Now we move to some advanced techniques"
      ],
      "metadata": {
        "id": "OmEMloIzUkjJ"
      }
    },
    {
      "cell_type": "markdown",
      "source": [
        "# Part2"
      ],
      "metadata": {
        "id": "2GH_oJU7T6Db"
      }
    },
    {
      "cell_type": "code",
      "source": [
        "#sarima"
      ],
      "metadata": {
        "id": "HmTNs_LOT8f3"
      },
      "execution_count": 9,
      "outputs": []
    },
    {
      "cell_type": "code",
      "source": [
        "# If data has seasonality in it, auto correlation plot helps us identify the period.\n",
        "# "
      ],
      "metadata": {
        "id": "VBkkr-v2c7Xr"
      },
      "execution_count": null,
      "outputs": []
    }
  ]
}